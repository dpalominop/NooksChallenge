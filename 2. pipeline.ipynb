{
 "cells": [
  {
   "cell_type": "markdown",
   "id": "28c6d104-e3cf-4d1d-8c74-1d37f98f62b8",
   "metadata": {},
   "source": [
    "<h1> Nooks Challenge</h1></br>"
   ]
  },
  {
   "cell_type": "code",
   "execution_count": 1,
   "id": "cfeda5d3-037d-4d4d-a6ca-a67b8d91abf4",
   "metadata": {},
   "outputs": [],
   "source": [
    "import pandas as pd\n",
    "import numpy as np\n",
    "import matplotlib.pyplot as plt\n",
    "\n",
    "from datasets import Dataset\n",
    "from transformers import AutoTokenizer\n",
    "from transformers import DataCollatorWithPadding\n",
    "from transformers import AutoModelForSequenceClassification, TrainingArguments, Trainer"
   ]
  },
  {
   "cell_type": "markdown",
   "id": "980897a2-255a-4ce6-befd-e024a9712ef2",
   "metadata": {},
   "source": [
    "</br><h2>1. Dataset</h2></br>"
   ]
  },
  {
   "cell_type": "markdown",
   "id": "046cc889-79e4-4b9f-8075-f0af568d457e",
   "metadata": {},
   "source": [
    "### 1.1 Loading dataframe"
   ]
  },
  {
   "cell_type": "code",
   "execution_count": 2,
   "id": "7ea46712-4330-4d47-b3eb-8f8cfdb61edf",
   "metadata": {},
   "outputs": [
    {
     "data": {
      "text/html": [
       "<div>\n",
       "<style scoped>\n",
       "    .dataframe tbody tr th:only-of-type {\n",
       "        vertical-align: middle;\n",
       "    }\n",
       "\n",
       "    .dataframe tbody tr th {\n",
       "        vertical-align: top;\n",
       "    }\n",
       "\n",
       "    .dataframe thead th {\n",
       "        text-align: right;\n",
       "    }\n",
       "</style>\n",
       "<table border=\"1\" class=\"dataframe\">\n",
       "  <thead>\n",
       "    <tr style=\"text-align: right;\">\n",
       "      <th></th>\n",
       "      <th>Unnamed: 0</th>\n",
       "      <th>sid</th>\n",
       "      <th>label</th>\n",
       "      <th>transcript</th>\n",
       "      <th>partial_transcripts</th>\n",
       "    </tr>\n",
       "  </thead>\n",
       "  <tbody>\n",
       "    <tr>\n",
       "      <th>0</th>\n",
       "      <td>0</td>\n",
       "      <td>CF8e49eff05aa1505fd419f4b3183e6898</td>\n",
       "      <td>human</td>\n",
       "      <td>Hey, what's up?</td>\n",
       "      <td>(0): Hey./(0.4): hey, what's/(0.408): Hey, wha...</td>\n",
       "    </tr>\n",
       "    <tr>\n",
       "      <th>1</th>\n",
       "      <td>1</td>\n",
       "      <td>CF78c33ca4e5d8a1fefbbd814b0b77912a</td>\n",
       "      <td>voicemail</td>\n",
       "      <td>Hi, this is Frank Apple. I'm unable to take yo...</td>\n",
       "      <td>(0): Hi./(0.356): Hi this./(0.367): hi, this i...</td>\n",
       "    </tr>\n",
       "    <tr>\n",
       "      <th>2</th>\n",
       "      <td>2</td>\n",
       "      <td>CF374e99cf5e643b84243a908d45429bf6</td>\n",
       "      <td>voicemail</td>\n",
       "      <td>Your call has been forwarded to an automated v...</td>\n",
       "      <td>(0): You're?/(0.001): Your call./(0.317): Your...</td>\n",
       "    </tr>\n",
       "    <tr>\n",
       "      <th>3</th>\n",
       "      <td>3</td>\n",
       "      <td>CF357bb78d1787f6a9e461ab1f229890c8</td>\n",
       "      <td>human</td>\n",
       "      <td>Good morning.  Absolutely, give me one moment.</td>\n",
       "      <td>(0): Good./(0.418): Good morning./(0.42): Good...</td>\n",
       "    </tr>\n",
       "    <tr>\n",
       "      <th>4</th>\n",
       "      <td>4</td>\n",
       "      <td>CF000ffa4ef2954b2b22ae5278033b7bb9</td>\n",
       "      <td>human</td>\n",
       "      <td>Hi. This is Bruce Miller.</td>\n",
       "      <td>(0): I just/(0.155): Hi, this is Chris./(0.283...</td>\n",
       "    </tr>\n",
       "    <tr>\n",
       "      <th>...</th>\n",
       "      <td>...</td>\n",
       "      <td>...</td>\n",
       "      <td>...</td>\n",
       "      <td>...</td>\n",
       "      <td>...</td>\n",
       "    </tr>\n",
       "    <tr>\n",
       "      <th>2913</th>\n",
       "      <td>2913</td>\n",
       "      <td>CF0651f63da6f2ea02f18d7cf6c9efafc8</td>\n",
       "      <td>voicemail</td>\n",
       "      <td>Your call has been forwarded to an automatic v...</td>\n",
       "      <td>(0): Your call./(0.364): Your call has./(0.37)...</td>\n",
       "    </tr>\n",
       "    <tr>\n",
       "      <th>2914</th>\n",
       "      <td>2914</td>\n",
       "      <td>CFb10e29e754bf876678745028dee8278b</td>\n",
       "      <td>human</td>\n",
       "      <td>Hello.  Yes.</td>\n",
       "      <td>(0): Hello./(1.191): Hello./(1.207): Hello./(3...</td>\n",
       "    </tr>\n",
       "    <tr>\n",
       "      <th>2915</th>\n",
       "      <td>2915</td>\n",
       "      <td>CF9b1e586eb99588d63b7244f4da31f9ea</td>\n",
       "      <td>voicemail</td>\n",
       "      <td>Your call has been forwarded to an automatic v...</td>\n",
       "      <td>(0): Your call has been./(0.404): Your call ha...</td>\n",
       "    </tr>\n",
       "    <tr>\n",
       "      <th>2916</th>\n",
       "      <td>2916</td>\n",
       "      <td>CF5eb6d8cc9cb4b2e482dee49b5501aa3f</td>\n",
       "      <td>human</td>\n",
       "      <td>Valid.</td>\n",
       "      <td>(0): Valid./(0.307): Salak./(0.975): Valid.</td>\n",
       "    </tr>\n",
       "    <tr>\n",
       "      <th>2917</th>\n",
       "      <td>2917</td>\n",
       "      <td>CF1850bcacfcb1440aa0f7420a17e201c7</td>\n",
       "      <td>voicemail</td>\n",
       "      <td>Your call has been forwarded to an automated v...</td>\n",
       "      <td>(0): You're?/(0.011): Your call./(0.403): Your...</td>\n",
       "    </tr>\n",
       "  </tbody>\n",
       "</table>\n",
       "<p>2918 rows × 5 columns</p>\n",
       "</div>"
      ],
      "text/plain": [
       "      Unnamed: 0                                 sid      label  \\\n",
       "0              0  CF8e49eff05aa1505fd419f4b3183e6898      human   \n",
       "1              1  CF78c33ca4e5d8a1fefbbd814b0b77912a  voicemail   \n",
       "2              2  CF374e99cf5e643b84243a908d45429bf6  voicemail   \n",
       "3              3  CF357bb78d1787f6a9e461ab1f229890c8      human   \n",
       "4              4  CF000ffa4ef2954b2b22ae5278033b7bb9      human   \n",
       "...          ...                                 ...        ...   \n",
       "2913        2913  CF0651f63da6f2ea02f18d7cf6c9efafc8  voicemail   \n",
       "2914        2914  CFb10e29e754bf876678745028dee8278b      human   \n",
       "2915        2915  CF9b1e586eb99588d63b7244f4da31f9ea  voicemail   \n",
       "2916        2916  CF5eb6d8cc9cb4b2e482dee49b5501aa3f      human   \n",
       "2917        2917  CF1850bcacfcb1440aa0f7420a17e201c7  voicemail   \n",
       "\n",
       "                                             transcript  \\\n",
       "0                                       Hey, what's up?   \n",
       "1     Hi, this is Frank Apple. I'm unable to take yo...   \n",
       "2     Your call has been forwarded to an automated v...   \n",
       "3        Good morning.  Absolutely, give me one moment.   \n",
       "4                             Hi. This is Bruce Miller.   \n",
       "...                                                 ...   \n",
       "2913  Your call has been forwarded to an automatic v...   \n",
       "2914                                       Hello.  Yes.   \n",
       "2915  Your call has been forwarded to an automatic v...   \n",
       "2916                                             Valid.   \n",
       "2917  Your call has been forwarded to an automated v...   \n",
       "\n",
       "                                    partial_transcripts  \n",
       "0     (0): Hey./(0.4): hey, what's/(0.408): Hey, wha...  \n",
       "1     (0): Hi./(0.356): Hi this./(0.367): hi, this i...  \n",
       "2     (0): You're?/(0.001): Your call./(0.317): Your...  \n",
       "3     (0): Good./(0.418): Good morning./(0.42): Good...  \n",
       "4     (0): I just/(0.155): Hi, this is Chris./(0.283...  \n",
       "...                                                 ...  \n",
       "2913  (0): Your call./(0.364): Your call has./(0.37)...  \n",
       "2914  (0): Hello./(1.191): Hello./(1.207): Hello./(3...  \n",
       "2915  (0): Your call has been./(0.404): Your call ha...  \n",
       "2916        (0): Valid./(0.307): Salak./(0.975): Valid.  \n",
       "2917  (0): You're?/(0.011): Your call./(0.403): Your...  \n",
       "\n",
       "[2918 rows x 5 columns]"
      ]
     },
     "execution_count": 2,
     "metadata": {},
     "output_type": "execute_result"
    }
   ],
   "source": [
    "train_df = pd.read_csv('data/train_data.csv')\n",
    "train_df"
   ]
  },
  {
   "cell_type": "markdown",
   "id": "c16207b2-536d-4f33-a850-ccb32b6fa8a7",
   "metadata": {},
   "source": [
    "### 1.2 Cleaning dataframe"
   ]
  },
  {
   "cell_type": "code",
   "execution_count": 3,
   "id": "86e1b5ee-7382-4b81-835b-93f0edd5f411",
   "metadata": {},
   "outputs": [
    {
     "data": {
      "text/plain": [
       "voicemail    1952\n",
       "human         966\n",
       "Name: label, dtype: int64"
      ]
     },
     "execution_count": 3,
     "metadata": {},
     "output_type": "execute_result"
    }
   ],
   "source": [
    "train_df[\"label\"].value_counts(dropna=False)"
   ]
  },
  {
   "cell_type": "markdown",
   "id": "51aedc16-304b-43d7-abcf-a6a03aa62697",
   "metadata": {},
   "source": [
    "Convert labels into numbers:"
   ]
  },
  {
   "cell_type": "code",
   "execution_count": 4,
   "id": "af37e4b8-6076-4f93-8993-ed375b17f93b",
   "metadata": {},
   "outputs": [],
   "source": [
    "train_df[\"label\"]=train_df[\"label\"].map({\"human\":1, \"voicemail\":0})"
   ]
  },
  {
   "cell_type": "markdown",
   "id": "9b4be6c4-b5ce-49d1-b77f-cbd5d82f0ccb",
   "metadata": {},
   "source": [
    "Verify if there are null values:"
   ]
  },
  {
   "cell_type": "code",
   "execution_count": 5,
   "id": "a9e9db99-2d10-4426-a66a-a071df01261d",
   "metadata": {},
   "outputs": [
    {
     "data": {
      "text/plain": [
       "Unnamed: 0              0\n",
       "sid                     0\n",
       "label                   0\n",
       "transcript             49\n",
       "partial_transcripts    50\n",
       "dtype: int64"
      ]
     },
     "execution_count": 5,
     "metadata": {},
     "output_type": "execute_result"
    }
   ],
   "source": [
    "train_df.isnull().sum()"
   ]
  },
  {
   "cell_type": "code",
   "execution_count": 6,
   "id": "9ea0594c-4f88-4bed-b932-92d021353dfe",
   "metadata": {},
   "outputs": [],
   "source": [
    "train_df = train_df.dropna(subset=[\"transcript\"])"
   ]
  },
  {
   "cell_type": "code",
   "execution_count": 7,
   "id": "54f4dfd6-9f2d-4484-880b-1c3b91d42054",
   "metadata": {},
   "outputs": [
    {
     "data": {
      "text/html": [
       "<div>\n",
       "<style scoped>\n",
       "    .dataframe tbody tr th:only-of-type {\n",
       "        vertical-align: middle;\n",
       "    }\n",
       "\n",
       "    .dataframe tbody tr th {\n",
       "        vertical-align: top;\n",
       "    }\n",
       "\n",
       "    .dataframe thead th {\n",
       "        text-align: right;\n",
       "    }\n",
       "</style>\n",
       "<table border=\"1\" class=\"dataframe\">\n",
       "  <thead>\n",
       "    <tr style=\"text-align: right;\">\n",
       "      <th></th>\n",
       "      <th>Unnamed: 0</th>\n",
       "      <th>sid</th>\n",
       "      <th>label</th>\n",
       "      <th>transcript</th>\n",
       "      <th>partial_transcripts</th>\n",
       "    </tr>\n",
       "  </thead>\n",
       "  <tbody>\n",
       "  </tbody>\n",
       "</table>\n",
       "</div>"
      ],
      "text/plain": [
       "Empty DataFrame\n",
       "Columns: [Unnamed: 0, sid, label, transcript, partial_transcripts]\n",
       "Index: []"
      ]
     },
     "execution_count": 7,
     "metadata": {},
     "output_type": "execute_result"
    }
   ],
   "source": [
    "train_df[train_df[\"transcript\"].isnull()]"
   ]
  },
  {
   "cell_type": "markdown",
   "id": "731ac2b6-2660-4ed7-97cb-7b1165be111c",
   "metadata": {},
   "source": [
    "Verify if there are duplicated rows:"
   ]
  },
  {
   "cell_type": "code",
   "execution_count": 8,
   "id": "07328e43-0bd3-4380-8ef1-3bb2756f9e06",
   "metadata": {},
   "outputs": [
    {
     "data": {
      "text/html": [
       "<div>\n",
       "<style scoped>\n",
       "    .dataframe tbody tr th:only-of-type {\n",
       "        vertical-align: middle;\n",
       "    }\n",
       "\n",
       "    .dataframe tbody tr th {\n",
       "        vertical-align: top;\n",
       "    }\n",
       "\n",
       "    .dataframe thead th {\n",
       "        text-align: right;\n",
       "    }\n",
       "</style>\n",
       "<table border=\"1\" class=\"dataframe\">\n",
       "  <thead>\n",
       "    <tr style=\"text-align: right;\">\n",
       "      <th></th>\n",
       "      <th>Unnamed: 0</th>\n",
       "      <th>sid</th>\n",
       "      <th>label</th>\n",
       "      <th>transcript</th>\n",
       "      <th>partial_transcripts</th>\n",
       "    </tr>\n",
       "  </thead>\n",
       "  <tbody>\n",
       "  </tbody>\n",
       "</table>\n",
       "</div>"
      ],
      "text/plain": [
       "Empty DataFrame\n",
       "Columns: [Unnamed: 0, sid, label, transcript, partial_transcripts]\n",
       "Index: []"
      ]
     },
     "execution_count": 8,
     "metadata": {},
     "output_type": "execute_result"
    }
   ],
   "source": [
    "train_df[train_df.duplicated()]"
   ]
  },
  {
   "cell_type": "markdown",
   "id": "5150db59-8e90-49ca-a23f-12bda321ff1a",
   "metadata": {},
   "source": [
    "### 1.3 Splitting dataframe"
   ]
  },
  {
   "cell_type": "code",
   "execution_count": 9,
   "id": "2396bdc2-570d-4056-979c-3f1cce06dea1",
   "metadata": {},
   "outputs": [],
   "source": [
    "def train_validate_test_split(df, percent=.7, seed=None):\n",
    "    df = df.reset_index()\n",
    "    np.random.seed(seed)\n",
    "    perm = np.random.permutation(df.index)\n",
    "    m = len(df.index)\n",
    "    train_end = int(percent * m)\n",
    "    \n",
    "    train_df = df.iloc[perm[:train_end]]\n",
    "    eval_df = df.iloc[perm[train_end:]]\n",
    "    return train_df, eval_df"
   ]
  },
  {
   "cell_type": "code",
   "execution_count": 10,
   "id": "169ddd32-ff8e-4d4d-a010-d9e9c9f8746d",
   "metadata": {},
   "outputs": [],
   "source": [
    "train_df, eval_df = train_validate_test_split(train_df)"
   ]
  },
  {
   "cell_type": "markdown",
   "id": "c480ca6f-7724-4780-be7d-caff7251ec5f",
   "metadata": {},
   "source": [
    "### 1.4 Converting dataframes into datasets"
   ]
  },
  {
   "cell_type": "code",
   "execution_count": 11,
   "id": "922608d8-be86-4bde-a8fa-674c0f731234",
   "metadata": {},
   "outputs": [
    {
     "data": {
      "text/plain": [
       "Dataset({\n",
       "    features: ['transcript', 'label', '__index_level_0__'],\n",
       "    num_rows: 2008\n",
       "})"
      ]
     },
     "execution_count": 11,
     "metadata": {},
     "output_type": "execute_result"
    }
   ],
   "source": [
    "train_ds = Dataset.from_pandas(train_df[[\"transcript\", \"label\"]])\n",
    "train_ds"
   ]
  },
  {
   "cell_type": "code",
   "execution_count": 12,
   "id": "eb1d665a-16a3-4550-bcec-c42d6ed59572",
   "metadata": {},
   "outputs": [
    {
     "data": {
      "text/plain": [
       "Dataset({\n",
       "    features: ['transcript', 'label', '__index_level_0__'],\n",
       "    num_rows: 861\n",
       "})"
      ]
     },
     "execution_count": 12,
     "metadata": {},
     "output_type": "execute_result"
    }
   ],
   "source": [
    "eval_ds = Dataset.from_pandas(eval_df[[\"transcript\", \"label\"]])\n",
    "eval_ds"
   ]
  },
  {
   "cell_type": "markdown",
   "id": "b61cd3c1-12f8-47a3-a26e-3ad3dbb09b50",
   "metadata": {},
   "source": [
    "</br><h2>2. Modeling </h2></br>"
   ]
  },
  {
   "cell_type": "code",
   "execution_count": 13,
   "id": "ca22c9fb-cab3-42cc-bb31-ed03ea2d6143",
   "metadata": {},
   "outputs": [],
   "source": [
    "model_name = \"bert-base-uncased\""
   ]
  },
  {
   "cell_type": "markdown",
   "id": "289650da-d653-478b-bfef-28bdc325d2c6",
   "metadata": {},
   "source": [
    "### 2.1 Tokenizing"
   ]
  },
  {
   "cell_type": "code",
   "execution_count": 14,
   "id": "e2afb447-a412-4331-bc62-41ae9a3b02a9",
   "metadata": {},
   "outputs": [],
   "source": [
    "tokenizer = AutoTokenizer.from_pretrained(model_name)"
   ]
  },
  {
   "cell_type": "code",
   "execution_count": 15,
   "id": "2fc2fb3c-03c3-448e-b6ef-7f22d1e4ae6b",
   "metadata": {},
   "outputs": [],
   "source": [
    "def preprocess_function(examples):\n",
    "    return tokenizer(examples[\"transcript\"], truncation=True)"
   ]
  },
  {
   "cell_type": "code",
   "execution_count": 16,
   "id": "9fe7bc05-442f-4ad4-be46-fca82f49ebc3",
   "metadata": {},
   "outputs": [
    {
     "data": {
      "application/vnd.jupyter.widget-view+json": {
       "model_id": "e97ff0daf4de4476b05f44efbd9c89ce",
       "version_major": 2,
       "version_minor": 0
      },
      "text/plain": [
       "  0%|          | 0/3 [00:00<?, ?ba/s]"
      ]
     },
     "metadata": {},
     "output_type": "display_data"
    }
   ],
   "source": [
    "tokenized_train = train_ds.map(preprocess_function, batched=True)"
   ]
  },
  {
   "cell_type": "code",
   "execution_count": 17,
   "id": "8984c021-20b4-4d1d-9198-c040e25d1bb1",
   "metadata": {},
   "outputs": [
    {
     "data": {
      "application/vnd.jupyter.widget-view+json": {
       "model_id": "a2e9923a1fe74c4c9c5f7d4319881377",
       "version_major": 2,
       "version_minor": 0
      },
      "text/plain": [
       "  0%|          | 0/1 [00:00<?, ?ba/s]"
      ]
     },
     "metadata": {},
     "output_type": "display_data"
    }
   ],
   "source": [
    "tokenized_eval = eval_ds.map(preprocess_function, batched=True)"
   ]
  },
  {
   "cell_type": "markdown",
   "id": "1640a981-7614-48ca-957a-5b602cd22503",
   "metadata": {},
   "source": [
    "### 2.2 Defining hyperparameters"
   ]
  },
  {
   "cell_type": "code",
   "execution_count": 18,
   "id": "4c168380-3c9d-4ec0-94aa-49d6ca0ff7ab",
   "metadata": {},
   "outputs": [],
   "source": [
    "data_collator = DataCollatorWithPadding(tokenizer=tokenizer)"
   ]
  },
  {
   "cell_type": "code",
   "execution_count": 19,
   "id": "6d6d8884-43b9-43c4-9185-f80bda2558e8",
   "metadata": {},
   "outputs": [
    {
     "name": "stderr",
     "output_type": "stream",
     "text": [
      "Some weights of the model checkpoint at bert-base-uncased were not used when initializing BertForSequenceClassification: ['cls.predictions.transform.LayerNorm.weight', 'cls.predictions.transform.LayerNorm.bias', 'cls.predictions.decoder.weight', 'cls.seq_relationship.bias', 'cls.predictions.transform.dense.weight', 'cls.predictions.transform.dense.bias', 'cls.seq_relationship.weight', 'cls.predictions.bias']\n",
      "- This IS expected if you are initializing BertForSequenceClassification from the checkpoint of a model trained on another task or with another architecture (e.g. initializing a BertForSequenceClassification model from a BertForPreTraining model).\n",
      "- This IS NOT expected if you are initializing BertForSequenceClassification from the checkpoint of a model that you expect to be exactly identical (initializing a BertForSequenceClassification model from a BertForSequenceClassification model).\n",
      "Some weights of BertForSequenceClassification were not initialized from the model checkpoint at bert-base-uncased and are newly initialized: ['classifier.weight', 'classifier.bias']\n",
      "You should probably TRAIN this model on a down-stream task to be able to use it for predictions and inference.\n"
     ]
    }
   ],
   "source": [
    "model = AutoModelForSequenceClassification.from_pretrained(model_name, num_labels=2)"
   ]
  },
  {
   "cell_type": "code",
   "execution_count": 20,
   "id": "63743cdd-6837-4504-8893-f595c8213b21",
   "metadata": {},
   "outputs": [],
   "source": [
    "training_args = TrainingArguments(\n",
    "    output_dir=\"./results\",\n",
    "    evaluation_strategy = \"epoch\",\n",
    "    save_strategy = \"epoch\",\n",
    "    learning_rate=2e-5,\n",
    "    per_device_train_batch_size=64,\n",
    "    per_device_eval_batch_size=64,\n",
    "    num_train_epochs=5,\n",
    "    weight_decay=0.01,\n",
    "    load_best_model_at_end=True,\n",
    "    metric_for_best_model=\"f1\",\n",
    "    run_name=\"nooks\",\n",
    ")"
   ]
  },
  {
   "cell_type": "markdown",
   "id": "7df26842-d5dd-4ae3-8dee-ce21b1b14a74",
   "metadata": {},
   "source": [
    "### 2.3 Defining metrics"
   ]
  },
  {
   "cell_type": "code",
   "execution_count": 21,
   "id": "ed192edb-66dc-4fc1-821a-af7350dd3b59",
   "metadata": {},
   "outputs": [],
   "source": [
    "from sklearn.metrics import precision_recall_fscore_support, accuracy_score\n",
    "\n",
    "def compute_metrics(pred):\n",
    "    labels = pred.label_ids\n",
    "    preds = pred.predictions.argmax(-1)\n",
    "    precision, recall, f1, _ = precision_recall_fscore_support(labels, preds, average='binary')\n",
    "    acc = accuracy_score(labels, preds)\n",
    "    return {\n",
    "        'accuracy': acc,\n",
    "        'f1': f1,\n",
    "        'precision': precision,\n",
    "        'recall': recall\n",
    "    }"
   ]
  },
  {
   "cell_type": "markdown",
   "id": "20e9ee86-81cb-4017-b550-d027aba704ca",
   "metadata": {},
   "source": [
    "### 2.4 Training"
   ]
  },
  {
   "cell_type": "code",
   "execution_count": 22,
   "id": "796e6cbf-25bd-47a2-9c91-e10cd38da808",
   "metadata": {},
   "outputs": [],
   "source": [
    "trainer = Trainer(\n",
    "    model=model,\n",
    "    args=training_args,\n",
    "    train_dataset=tokenized_train,\n",
    "    eval_dataset=tokenized_eval,\n",
    "    tokenizer=tokenizer,\n",
    "    data_collator=data_collator,\n",
    "    compute_metrics=compute_metrics\n",
    ")"
   ]
  },
  {
   "cell_type": "code",
   "execution_count": 23,
   "id": "4aeaed51-6734-4dcb-9696-d598be7af722",
   "metadata": {},
   "outputs": [
    {
     "name": "stderr",
     "output_type": "stream",
     "text": [
      "The following columns in the training set  don't have a corresponding argument in `BertForSequenceClassification.forward` and have been ignored: transcript, __index_level_0__. If transcript, __index_level_0__ are not expected by `BertForSequenceClassification.forward`,  you can safely ignore this message.\n",
      "/workspaces/danielp/anaconda3/envs/jupyter/lib/python3.8/site-packages/transformers/optimization.py:306: FutureWarning: This implementation of AdamW is deprecated and will be removed in a future version. Use the PyTorch implementation torch.optim.AdamW instead, or set `no_deprecation_warning=True` to disable this warning\n",
      "  warnings.warn(\n",
      "***** Running training *****\n",
      "  Num examples = 2008\n",
      "  Num Epochs = 5\n",
      "  Instantaneous batch size per device = 64\n",
      "  Total train batch size (w. parallel, distributed & accumulation) = 64\n",
      "  Gradient Accumulation steps = 1\n",
      "  Total optimization steps = 160\n",
      "Automatic Weights & Biases logging enabled, to disable set os.environ[\"WANDB_DISABLED\"] = \"true\"\n",
      "Failed to detect the name of this notebook, you can set it manually with the WANDB_NOTEBOOK_NAME environment variable to enable code saving.\n",
      "\u001b[34m\u001b[1mwandb\u001b[0m: Currently logged in as: \u001b[33mmaa-ml-esg\u001b[0m (use `wandb login --relogin` to force relogin)\n",
      "\u001b[34m\u001b[1mwandb\u001b[0m: wandb version 0.13.1 is available!  To upgrade, please run:\n",
      "\u001b[34m\u001b[1mwandb\u001b[0m:  $ pip install wandb --upgrade\n"
     ]
    },
    {
     "data": {
      "text/html": [
       "\n",
       "                    Syncing run <strong><a href=\"https://wandb.ai/maa-ml-esg/huggingface/runs/1gcnhz6g\" target=\"_blank\">nooks</a></strong> to <a href=\"https://wandb.ai/maa-ml-esg/huggingface\" target=\"_blank\">Weights & Biases</a> (<a href=\"https://docs.wandb.com/integrations/jupyter.html\" target=\"_blank\">docs</a>).<br/>\n",
       "\n",
       "                "
      ],
      "text/plain": [
       "<IPython.core.display.HTML object>"
      ]
     },
     "metadata": {},
     "output_type": "display_data"
    },
    {
     "data": {
      "text/html": [
       "\n",
       "    <div>\n",
       "      \n",
       "      <progress value='160' max='160' style='width:300px; height:20px; vertical-align: middle;'></progress>\n",
       "      [160/160 02:16, Epoch 5/5]\n",
       "    </div>\n",
       "    <table border=\"1\" class=\"dataframe\">\n",
       "  <thead>\n",
       " <tr style=\"text-align: left;\">\n",
       "      <th>Epoch</th>\n",
       "      <th>Training Loss</th>\n",
       "      <th>Validation Loss</th>\n",
       "      <th>Accuracy</th>\n",
       "      <th>F1</th>\n",
       "      <th>Precision</th>\n",
       "      <th>Recall</th>\n",
       "    </tr>\n",
       "  </thead>\n",
       "  <tbody>\n",
       "    <tr>\n",
       "      <td>1</td>\n",
       "      <td>No log</td>\n",
       "      <td>0.096684</td>\n",
       "      <td>0.980256</td>\n",
       "      <td>0.969589</td>\n",
       "      <td>0.960993</td>\n",
       "      <td>0.978339</td>\n",
       "    </tr>\n",
       "    <tr>\n",
       "      <td>2</td>\n",
       "      <td>No log</td>\n",
       "      <td>0.058389</td>\n",
       "      <td>0.986063</td>\n",
       "      <td>0.978261</td>\n",
       "      <td>0.981818</td>\n",
       "      <td>0.974729</td>\n",
       "    </tr>\n",
       "    <tr>\n",
       "      <td>3</td>\n",
       "      <td>No log</td>\n",
       "      <td>0.063329</td>\n",
       "      <td>0.981417</td>\n",
       "      <td>0.971326</td>\n",
       "      <td>0.964413</td>\n",
       "      <td>0.978339</td>\n",
       "    </tr>\n",
       "    <tr>\n",
       "      <td>4</td>\n",
       "      <td>No log</td>\n",
       "      <td>0.056201</td>\n",
       "      <td>0.983740</td>\n",
       "      <td>0.974910</td>\n",
       "      <td>0.967972</td>\n",
       "      <td>0.981949</td>\n",
       "    </tr>\n",
       "    <tr>\n",
       "      <td>5</td>\n",
       "      <td>No log</td>\n",
       "      <td>0.057630</td>\n",
       "      <td>0.983740</td>\n",
       "      <td>0.974910</td>\n",
       "      <td>0.967972</td>\n",
       "      <td>0.981949</td>\n",
       "    </tr>\n",
       "  </tbody>\n",
       "</table><p>"
      ],
      "text/plain": [
       "<IPython.core.display.HTML object>"
      ]
     },
     "metadata": {},
     "output_type": "display_data"
    },
    {
     "name": "stderr",
     "output_type": "stream",
     "text": [
      "The following columns in the evaluation set  don't have a corresponding argument in `BertForSequenceClassification.forward` and have been ignored: transcript, __index_level_0__. If transcript, __index_level_0__ are not expected by `BertForSequenceClassification.forward`,  you can safely ignore this message.\n",
      "***** Running Evaluation *****\n",
      "  Num examples = 861\n",
      "  Batch size = 64\n",
      "Saving model checkpoint to ./results/checkpoint-32\n",
      "Configuration saved in ./results/checkpoint-32/config.json\n",
      "Model weights saved in ./results/checkpoint-32/pytorch_model.bin\n",
      "tokenizer config file saved in ./results/checkpoint-32/tokenizer_config.json\n",
      "Special tokens file saved in ./results/checkpoint-32/special_tokens_map.json\n",
      "The following columns in the evaluation set  don't have a corresponding argument in `BertForSequenceClassification.forward` and have been ignored: transcript, __index_level_0__. If transcript, __index_level_0__ are not expected by `BertForSequenceClassification.forward`,  you can safely ignore this message.\n",
      "***** Running Evaluation *****\n",
      "  Num examples = 861\n",
      "  Batch size = 64\n",
      "Saving model checkpoint to ./results/checkpoint-64\n",
      "Configuration saved in ./results/checkpoint-64/config.json\n",
      "Model weights saved in ./results/checkpoint-64/pytorch_model.bin\n",
      "tokenizer config file saved in ./results/checkpoint-64/tokenizer_config.json\n",
      "Special tokens file saved in ./results/checkpoint-64/special_tokens_map.json\n",
      "The following columns in the evaluation set  don't have a corresponding argument in `BertForSequenceClassification.forward` and have been ignored: transcript, __index_level_0__. If transcript, __index_level_0__ are not expected by `BertForSequenceClassification.forward`,  you can safely ignore this message.\n",
      "***** Running Evaluation *****\n",
      "  Num examples = 861\n",
      "  Batch size = 64\n",
      "Saving model checkpoint to ./results/checkpoint-96\n",
      "Configuration saved in ./results/checkpoint-96/config.json\n",
      "Model weights saved in ./results/checkpoint-96/pytorch_model.bin\n",
      "tokenizer config file saved in ./results/checkpoint-96/tokenizer_config.json\n",
      "Special tokens file saved in ./results/checkpoint-96/special_tokens_map.json\n",
      "The following columns in the evaluation set  don't have a corresponding argument in `BertForSequenceClassification.forward` and have been ignored: transcript, __index_level_0__. If transcript, __index_level_0__ are not expected by `BertForSequenceClassification.forward`,  you can safely ignore this message.\n",
      "***** Running Evaluation *****\n",
      "  Num examples = 861\n",
      "  Batch size = 64\n",
      "Saving model checkpoint to ./results/checkpoint-128\n",
      "Configuration saved in ./results/checkpoint-128/config.json\n",
      "Model weights saved in ./results/checkpoint-128/pytorch_model.bin\n",
      "tokenizer config file saved in ./results/checkpoint-128/tokenizer_config.json\n",
      "Special tokens file saved in ./results/checkpoint-128/special_tokens_map.json\n",
      "The following columns in the evaluation set  don't have a corresponding argument in `BertForSequenceClassification.forward` and have been ignored: transcript, __index_level_0__. If transcript, __index_level_0__ are not expected by `BertForSequenceClassification.forward`,  you can safely ignore this message.\n",
      "***** Running Evaluation *****\n",
      "  Num examples = 861\n",
      "  Batch size = 64\n",
      "Saving model checkpoint to ./results/checkpoint-160\n",
      "Configuration saved in ./results/checkpoint-160/config.json\n",
      "Model weights saved in ./results/checkpoint-160/pytorch_model.bin\n",
      "tokenizer config file saved in ./results/checkpoint-160/tokenizer_config.json\n",
      "Special tokens file saved in ./results/checkpoint-160/special_tokens_map.json\n",
      "\n",
      "\n",
      "Training completed. Do not forget to share your model on huggingface.co/models =)\n",
      "\n",
      "\n",
      "Loading best model from ./results/checkpoint-64 (score: 0.9782608695652173).\n"
     ]
    },
    {
     "data": {
      "text/plain": [
       "TrainOutput(global_step=160, training_loss=0.08944280743598938, metrics={'train_runtime': 145.8582, 'train_samples_per_second': 68.834, 'train_steps_per_second': 1.097, 'total_flos': 271456609147200.0, 'train_loss': 0.08944280743598938, 'epoch': 5.0})"
      ]
     },
     "execution_count": 23,
     "metadata": {},
     "output_type": "execute_result"
    }
   ],
   "source": [
    "trainer.train()"
   ]
  },
  {
   "cell_type": "code",
   "execution_count": 48,
   "id": "198d3211-5f90-4edd-af58-ee1191c76fd9",
   "metadata": {},
   "outputs": [
    {
     "name": "stderr",
     "output_type": "stream",
     "text": [
      "loading configuration file results/checkpoint-160/config.json\n",
      "Model config BertConfig {\n",
      "  \"_name_or_path\": \"results/checkpoint-160\",\n",
      "  \"architectures\": [\n",
      "    \"BertForSequenceClassification\"\n",
      "  ],\n",
      "  \"attention_probs_dropout_prob\": 0.1,\n",
      "  \"classifier_dropout\": null,\n",
      "  \"gradient_checkpointing\": false,\n",
      "  \"hidden_act\": \"gelu\",\n",
      "  \"hidden_dropout_prob\": 0.1,\n",
      "  \"hidden_size\": 768,\n",
      "  \"initializer_range\": 0.02,\n",
      "  \"intermediate_size\": 3072,\n",
      "  \"layer_norm_eps\": 1e-12,\n",
      "  \"max_position_embeddings\": 512,\n",
      "  \"model_type\": \"bert\",\n",
      "  \"num_attention_heads\": 12,\n",
      "  \"num_hidden_layers\": 12,\n",
      "  \"pad_token_id\": 0,\n",
      "  \"position_embedding_type\": \"absolute\",\n",
      "  \"problem_type\": \"single_label_classification\",\n",
      "  \"torch_dtype\": \"float32\",\n",
      "  \"transformers_version\": \"4.18.0\",\n",
      "  \"type_vocab_size\": 2,\n",
      "  \"use_cache\": true,\n",
      "  \"vocab_size\": 30522\n",
      "}\n",
      "\n",
      "loading weights file results/checkpoint-160/pytorch_model.bin\n",
      "All model checkpoint weights were used when initializing BertForSequenceClassification.\n",
      "\n",
      "All the weights of BertForSequenceClassification were initialized from the model checkpoint at results/checkpoint-160.\n",
      "If your task is similar to the task the model of the checkpoint was trained on, you can already use BertForSequenceClassification for predictions without further training.\n",
      "Saving model checkpoint to results/best_model\n",
      "Configuration saved in results/best_model/config.json\n",
      "Model weights saved in results/best_model/pytorch_model.bin\n",
      "tokenizer config file saved in results/best_model/tokenizer_config.json\n",
      "Special tokens file saved in results/best_model/special_tokens_map.json\n"
     ]
    }
   ],
   "source": [
    "# model = AutoModelForSequenceClassification.from_pretrained(\"results/checkpoint-160\", num_labels=2)\n",
    "# trainer = Trainer(\n",
    "#     model=model,\n",
    "#     args=training_args,\n",
    "#     train_dataset=tokenized_train,\n",
    "#     eval_dataset=tokenized_eval,\n",
    "#     tokenizer=tokenizer,\n",
    "#     data_collator=data_collator,\n",
    "#     compute_metrics=compute_metrics\n",
    "# )\n",
    "trainer.save_model(\"results/best_model\")"
   ]
  },
  {
   "cell_type": "markdown",
   "id": "735675ed-11ce-49aa-ac8c-379b79619e08",
   "metadata": {},
   "source": [
    "</br><h2>3. Evaluation</h2></br>"
   ]
  },
  {
   "cell_type": "code",
   "execution_count": 38,
   "id": "660413b2-2a36-40f1-bed7-913af5c151a0",
   "metadata": {},
   "outputs": [],
   "source": [
    "from sklearn.metrics import recall_score, precision_score, accuracy_score, classification_report, confusion_matrix, roc_curve, auc"
   ]
  },
  {
   "cell_type": "code",
   "execution_count": 39,
   "id": "466c5528-16ad-46e4-a61f-c18fadfe5508",
   "metadata": {},
   "outputs": [
    {
     "name": "stderr",
     "output_type": "stream",
     "text": [
      "The following columns in the test set  don't have a corresponding argument in `BertForSequenceClassification.forward` and have been ignored: transcript, __index_level_0__. If transcript, __index_level_0__ are not expected by `BertForSequenceClassification.forward`,  you can safely ignore this message.\n",
      "***** Running Prediction *****\n",
      "  Num examples = 861\n",
      "  Batch size = 64\n"
     ]
    },
    {
     "data": {
      "text/html": [
       "\n",
       "    <div>\n",
       "      \n",
       "      <progress value='14' max='14' style='width:300px; height:20px; vertical-align: middle;'></progress>\n",
       "      [14/14 00:02]\n",
       "    </div>\n",
       "    "
      ],
      "text/plain": [
       "<IPython.core.display.HTML object>"
      ]
     },
     "metadata": {},
     "output_type": "display_data"
    }
   ],
   "source": [
    "eval_predictions = trainer.predict(tokenized_eval)"
   ]
  },
  {
   "cell_type": "code",
   "execution_count": 40,
   "id": "7bcfad5c-8de4-4ffa-a220-a2f608ec96e0",
   "metadata": {
    "tags": []
   },
   "outputs": [],
   "source": [
    "eval_preds = eval_predictions.predictions.argmax(-1)"
   ]
  },
  {
   "cell_type": "markdown",
   "id": "99918129-01e6-456e-8f3e-68745d853253",
   "metadata": {},
   "source": [
    "### 3.1 Recall"
   ]
  },
  {
   "cell_type": "code",
   "execution_count": 41,
   "id": "5b6cd142-7ccb-4015-9159-32f8fc812ad4",
   "metadata": {},
   "outputs": [
    {
     "data": {
      "text/plain": [
       "0.9819494584837545"
      ]
     },
     "execution_count": 41,
     "metadata": {},
     "output_type": "execute_result"
    }
   ],
   "source": [
    "recall_score(eval_ds[\"label\"], eval_preds)"
   ]
  },
  {
   "cell_type": "markdown",
   "id": "8273a50b-8517-47c9-85e0-2c3bb3feb4c8",
   "metadata": {},
   "source": [
    "### 3.2 Precision"
   ]
  },
  {
   "cell_type": "code",
   "execution_count": 42,
   "id": "46f8c28d-061e-444b-b22f-417b00c018c2",
   "metadata": {},
   "outputs": [
    {
     "data": {
      "text/plain": [
       "0.9679715302491103"
      ]
     },
     "execution_count": 42,
     "metadata": {},
     "output_type": "execute_result"
    }
   ],
   "source": [
    "precision_score(eval_ds[\"label\"], eval_preds)"
   ]
  },
  {
   "cell_type": "markdown",
   "id": "8a5a56c6-bb7b-44a4-8372-1b6ba13dccea",
   "metadata": {},
   "source": [
    "### 3.3 Accuracy"
   ]
  },
  {
   "cell_type": "code",
   "execution_count": 43,
   "id": "850b318e-edda-417b-a8b7-58e199d3a525",
   "metadata": {},
   "outputs": [
    {
     "data": {
      "text/plain": [
       "0.983739837398374"
      ]
     },
     "execution_count": 43,
     "metadata": {},
     "output_type": "execute_result"
    }
   ],
   "source": [
    "accuracy_score(eval_ds[\"label\"], eval_preds)"
   ]
  },
  {
   "cell_type": "markdown",
   "id": "098d2d02-5845-4de9-85f0-6195f59476f2",
   "metadata": {},
   "source": [
    "### 3.4 Classification report"
   ]
  },
  {
   "cell_type": "code",
   "execution_count": 44,
   "id": "38ba6fa0-3d07-463a-9f38-4ae921a5ff55",
   "metadata": {},
   "outputs": [
    {
     "name": "stdout",
     "output_type": "stream",
     "text": [
      "              precision    recall  f1-score   support\n",
      "\n",
      "           0       0.99      0.98      0.99       584\n",
      "           1       0.97      0.98      0.97       277\n",
      "\n",
      "    accuracy                           0.98       861\n",
      "   macro avg       0.98      0.98      0.98       861\n",
      "weighted avg       0.98      0.98      0.98       861\n",
      "\n"
     ]
    }
   ],
   "source": [
    "print(classification_report(eval_ds[\"label\"], eval_preds))"
   ]
  },
  {
   "cell_type": "markdown",
   "id": "fa9e536c-7d1a-4bb6-a2f4-bfd1ec510e70",
   "metadata": {},
   "source": [
    "### 3.5 Confussion Matrix"
   ]
  },
  {
   "cell_type": "code",
   "execution_count": 45,
   "id": "07e904ff-d0a9-4928-b8c5-bda809e7e29e",
   "metadata": {},
   "outputs": [
    {
     "name": "stdout",
     "output_type": "stream",
     "text": [
      "                      Predicted class voicemail  Predicted class human\n",
      "Real class voicemail                        575                      9\n",
      "Real class human                              5                    272\n"
     ]
    }
   ],
   "source": [
    "confusion_df = pd.DataFrame(confusion_matrix(eval_ds[\"label\"], eval_preds),\n",
    "             columns=[\"Predicted class voicemail\", \"Predicted class human\"],\n",
    "             index = [\"Real class voicemail\", \"Real class human\"])\n",
    "\n",
    "print(confusion_df)"
   ]
  },
  {
   "cell_type": "markdown",
   "id": "cd1c268d-4229-4074-9ecc-2b3149acddc6",
   "metadata": {},
   "source": [
    "### 3.6 ROC/AUC"
   ]
  },
  {
   "cell_type": "code",
   "execution_count": 46,
   "id": "ec2b7d11-5909-49e8-acee-ab2afd0c4d27",
   "metadata": {},
   "outputs": [],
   "source": [
    "fpr, tpr, _ = roc_curve(eval_ds[\"label\"], eval_predictions.predictions[:, 1])\n",
    "roc_auc = auc(fpr, tpr)"
   ]
  },
  {
   "cell_type": "code",
   "execution_count": 47,
   "id": "c5417a31-2022-4357-b531-5758117d2b2d",
   "metadata": {},
   "outputs": [
    {
     "data": {
      "image/png": "[encoded data removed]",
      "text/plain": [
       "<Figure size 720x504 with 1 Axes>"
      ]
     },
     "metadata": {
      "needs_background": "light"
     },
     "output_type": "display_data"
    }
   ],
   "source": [
    "plt.figure(figsize=(10, 7))\n",
    "plt.plot(fpr, tpr,'o--', label=f\"ROC Curve (AUC = {roc_auc})\")\n",
    "plt.plot([0, 1], [0, 1], 'k--')\n",
    "plt.xlim([0.0, 1.0])\n",
    "plt.ylim([0.0, 1.05])\n",
    "plt.xlabel('False Positive Rate (FPR)')\n",
    "plt.ylabel('True Positive Rate (TPR)')\n",
    "plt.title(f\"ROC Curve: Class \\'human\\'=1.0\")\n",
    "plt.legend(loc=\"lower right\")\n",
    "plt.show()"
   ]
  },
  {
   "cell_type": "code",
   "execution_count": null,
   "id": "5d29aca1-b917-4288-a2bc-4fd510e4e6b2",
   "metadata": {},
   "outputs": [],
   "source": []
  }
 ],
 "metadata": {
  "kernelspec": {
   "display_name": "Python 3",
   "language": "python",
   "name": "python3"
  },
  "language_info": {
   "codemirror_mode": {
    "name": "ipython",
    "version": 3
   },
   "file_extension": ".py",
   "mimetype": "text/x-python",
   "name": "python",
   "nbconvert_exporter": "python",
   "pygments_lexer": "ipython3",
   "version": "3.8.0"
  }
 },
 "nbformat": 4,
 "nbformat_minor": 5
}
