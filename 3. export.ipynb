{
 "cells": [
  {
   "cell_type": "markdown",
   "id": "7f73b90c-8223-48d7-a616-0180a48809b5",
   "metadata": {},
   "source": [
    "<h1>Export Predictions on Evaluation Dataset</h1>"
   ]
  },
  {
   "cell_type": "code",
   "execution_count": 1,
   "id": "31d83faa-2814-4c99-87d1-2353008a78a9",
   "metadata": {},
   "outputs": [],
   "source": [
    "import pandas as pd\n",
    "import numpy as np\n",
    "import matplotlib.pyplot as plt\n",
    "\n",
    "from datasets import Dataset\n",
    "from transformers import AutoTokenizer\n",
    "from transformers import DataCollatorWithPadding\n",
    "from transformers import AutoModelForSequenceClassification, TrainingArguments, Trainer"
   ]
  },
  {
   "cell_type": "markdown",
   "id": "fb54d5c8-9744-4b29-a4f5-afdf5e94ae2b",
   "metadata": {},
   "source": [
    "<br><h2>1. Loading Dataset</h2><br>"
   ]
  },
  {
   "cell_type": "code",
   "execution_count": 2,
   "id": "a0920e08-f04f-4695-93d9-86be069bbd50",
   "metadata": {},
   "outputs": [
    {
     "data": {
      "text/html": [
       "<div>\n",
       "<style scoped>\n",
       "    .dataframe tbody tr th:only-of-type {\n",
       "        vertical-align: middle;\n",
       "    }\n",
       "\n",
       "    .dataframe tbody tr th {\n",
       "        vertical-align: top;\n",
       "    }\n",
       "\n",
       "    .dataframe thead th {\n",
       "        text-align: right;\n",
       "    }\n",
       "</style>\n",
       "<table border=\"1\" class=\"dataframe\">\n",
       "  <thead>\n",
       "    <tr style=\"text-align: right;\">\n",
       "      <th></th>\n",
       "      <th>Unnamed: 0</th>\n",
       "      <th>sid</th>\n",
       "      <th>transcript</th>\n",
       "      <th>partial_transcripts</th>\n",
       "    </tr>\n",
       "  </thead>\n",
       "  <tbody>\n",
       "    <tr>\n",
       "      <th>0</th>\n",
       "      <td>0</td>\n",
       "      <td>CF8fd2e7ac0e4ff2316bb18a9ffe5e9e68</td>\n",
       "      <td>Your call has been forwarded to an automated v...</td>\n",
       "      <td>(0): You're?/(0.065): Your call./(0.422): Your...</td>\n",
       "    </tr>\n",
       "    <tr>\n",
       "      <th>1</th>\n",
       "      <td>1</td>\n",
       "      <td>CF2a9819f31261b93230e2ad68888bb479</td>\n",
       "      <td>Lamancha. This is Carrie. Can I help you?</td>\n",
       "      <td>(0): Ramon./(0.119): Clermont./(0.365): Lamanc...</td>\n",
       "    </tr>\n",
       "    <tr>\n",
       "      <th>2</th>\n",
       "      <td>2</td>\n",
       "      <td>CF94166971f53d5b09ac2e411755ead266</td>\n",
       "      <td>Yes, so let me says hello, you've reached this...</td>\n",
       "      <td>(0): Yes./(0.129): Who was it just for?/(0.255...</td>\n",
       "    </tr>\n",
       "    <tr>\n",
       "      <th>3</th>\n",
       "      <td>3</td>\n",
       "      <td>CF13315d4973c7c6333ed31aac7b406f46</td>\n",
       "      <td>Brian toner.</td>\n",
       "      <td>(0): Ryan./(0.245): Ryan tone./(0.265): Brian ...</td>\n",
       "    </tr>\n",
       "    <tr>\n",
       "      <th>4</th>\n",
       "      <td>4</td>\n",
       "      <td>CFd61f7d8a06b913c4b2170bebe99b3331</td>\n",
       "      <td>Hello, darling. Static is not available. Pleas...</td>\n",
       "      <td>(0): Hello./(0.51): Hello./(0.549): Hello,  ba...</td>\n",
       "    </tr>\n",
       "    <tr>\n",
       "      <th>...</th>\n",
       "      <td>...</td>\n",
       "      <td>...</td>\n",
       "      <td>...</td>\n",
       "      <td>...</td>\n",
       "    </tr>\n",
       "    <tr>\n",
       "      <th>725</th>\n",
       "      <td>725</td>\n",
       "      <td>CFa21859e752416d642f9d93aa1c290f66</td>\n",
       "      <td>718 is not available to take your call. Please...</td>\n",
       "      <td>(0): Seven./(0.311): 337./(0.328): 371./(0.73)...</td>\n",
       "    </tr>\n",
       "    <tr>\n",
       "      <th>726</th>\n",
       "      <td>726</td>\n",
       "      <td>CF5d58b2164c51a9ec5295e48c16beca5c</td>\n",
       "      <td>Zack Hess is currently unavailable.</td>\n",
       "      <td>(0): Zach./(0.448): Zack Hess./(0.449): Zack./...</td>\n",
       "    </tr>\n",
       "    <tr>\n",
       "      <th>727</th>\n",
       "      <td>727</td>\n",
       "      <td>CFf631ae0c49dc94fd43ae77da07c233e5</td>\n",
       "      <td>Who you've reached, Jessica, Russell, Gilliam,...</td>\n",
       "      <td>(0): Who./(0.626): Who./(0.791): Who  you've r...</td>\n",
       "    </tr>\n",
       "    <tr>\n",
       "      <th>728</th>\n",
       "      <td>728</td>\n",
       "      <td>CFc52805d7b70ebf85c0a924d3f2ef6749</td>\n",
       "      <td>Hi, you've reached brooks'. Schaefer. I'm not ...</td>\n",
       "      <td>(0): Hi./(0.011): hi, you've/(0.393): Hi, you'...</td>\n",
       "    </tr>\n",
       "    <tr>\n",
       "      <th>729</th>\n",
       "      <td>729</td>\n",
       "      <td>CF14cc041738be486351ad2e13da6cc80b</td>\n",
       "      <td>Please leave your message for 702-881-6318.</td>\n",
       "      <td>(0): Please./(0.017): Please leave./(0.408): P...</td>\n",
       "    </tr>\n",
       "  </tbody>\n",
       "</table>\n",
       "<p>730 rows × 4 columns</p>\n",
       "</div>"
      ],
      "text/plain": [
       "     Unnamed: 0                                 sid  \\\n",
       "0             0  CF8fd2e7ac0e4ff2316bb18a9ffe5e9e68   \n",
       "1             1  CF2a9819f31261b93230e2ad68888bb479   \n",
       "2             2  CF94166971f53d5b09ac2e411755ead266   \n",
       "3             3  CF13315d4973c7c6333ed31aac7b406f46   \n",
       "4             4  CFd61f7d8a06b913c4b2170bebe99b3331   \n",
       "..          ...                                 ...   \n",
       "725         725  CFa21859e752416d642f9d93aa1c290f66   \n",
       "726         726  CF5d58b2164c51a9ec5295e48c16beca5c   \n",
       "727         727  CFf631ae0c49dc94fd43ae77da07c233e5   \n",
       "728         728  CFc52805d7b70ebf85c0a924d3f2ef6749   \n",
       "729         729  CF14cc041738be486351ad2e13da6cc80b   \n",
       "\n",
       "                                            transcript  \\\n",
       "0    Your call has been forwarded to an automated v...   \n",
       "1            Lamancha. This is Carrie. Can I help you?   \n",
       "2    Yes, so let me says hello, you've reached this...   \n",
       "3                                         Brian toner.   \n",
       "4    Hello, darling. Static is not available. Pleas...   \n",
       "..                                                 ...   \n",
       "725  718 is not available to take your call. Please...   \n",
       "726                Zack Hess is currently unavailable.   \n",
       "727  Who you've reached, Jessica, Russell, Gilliam,...   \n",
       "728  Hi, you've reached brooks'. Schaefer. I'm not ...   \n",
       "729        Please leave your message for 702-881-6318.   \n",
       "\n",
       "                                   partial_transcripts  \n",
       "0    (0): You're?/(0.065): Your call./(0.422): Your...  \n",
       "1    (0): Ramon./(0.119): Clermont./(0.365): Lamanc...  \n",
       "2    (0): Yes./(0.129): Who was it just for?/(0.255...  \n",
       "3    (0): Ryan./(0.245): Ryan tone./(0.265): Brian ...  \n",
       "4    (0): Hello./(0.51): Hello./(0.549): Hello,  ba...  \n",
       "..                                                 ...  \n",
       "725  (0): Seven./(0.311): 337./(0.328): 371./(0.73)...  \n",
       "726  (0): Zach./(0.448): Zack Hess./(0.449): Zack./...  \n",
       "727  (0): Who./(0.626): Who./(0.791): Who  you've r...  \n",
       "728  (0): Hi./(0.011): hi, you've/(0.393): Hi, you'...  \n",
       "729  (0): Please./(0.017): Please leave./(0.408): P...  \n",
       "\n",
       "[730 rows x 4 columns]"
      ]
     },
     "execution_count": 2,
     "metadata": {},
     "output_type": "execute_result"
    }
   ],
   "source": [
    "test_df = pd.read_csv('data/evaluation_data.csv')\n",
    "test_df"
   ]
  },
  {
   "cell_type": "code",
   "execution_count": 3,
   "id": "5b0dc5ac-09e3-4efa-a302-633a1ada974a",
   "metadata": {},
   "outputs": [
    {
     "data": {
      "text/plain": [
       "Unnamed: 0              0\n",
       "sid                     0\n",
       "transcript             13\n",
       "partial_transcripts    13\n",
       "dtype: int64"
      ]
     },
     "execution_count": 3,
     "metadata": {},
     "output_type": "execute_result"
    }
   ],
   "source": [
    "test_df.isnull().sum()"
   ]
  },
  {
   "cell_type": "code",
   "execution_count": 4,
   "id": "e1913d94-5d96-4108-87a4-1c8b482ba9de",
   "metadata": {},
   "outputs": [],
   "source": [
    "test_df[\"transcript\"] = test_df[\"transcript\"].fillna(\"\")"
   ]
  },
  {
   "cell_type": "code",
   "execution_count": 5,
   "id": "22d71fe2-e1a6-4d5f-bbd1-0d265f0e3264",
   "metadata": {},
   "outputs": [
    {
     "data": {
      "text/plain": [
       "Unnamed: 0              0\n",
       "sid                     0\n",
       "transcript              0\n",
       "partial_transcripts    13\n",
       "dtype: int64"
      ]
     },
     "execution_count": 5,
     "metadata": {},
     "output_type": "execute_result"
    }
   ],
   "source": [
    "test_df.isnull().sum()"
   ]
  },
  {
   "cell_type": "code",
   "execution_count": 6,
   "id": "33c0a6de-b02d-4996-bf72-79b9bb16b160",
   "metadata": {},
   "outputs": [
    {
     "data": {
      "text/html": [
       "<div>\n",
       "<style scoped>\n",
       "    .dataframe tbody tr th:only-of-type {\n",
       "        vertical-align: middle;\n",
       "    }\n",
       "\n",
       "    .dataframe tbody tr th {\n",
       "        vertical-align: top;\n",
       "    }\n",
       "\n",
       "    .dataframe thead th {\n",
       "        text-align: right;\n",
       "    }\n",
       "</style>\n",
       "<table border=\"1\" class=\"dataframe\">\n",
       "  <thead>\n",
       "    <tr style=\"text-align: right;\">\n",
       "      <th></th>\n",
       "      <th>Unnamed: 0</th>\n",
       "      <th>sid</th>\n",
       "      <th>transcript</th>\n",
       "      <th>partial_transcripts</th>\n",
       "    </tr>\n",
       "  </thead>\n",
       "  <tbody>\n",
       "  </tbody>\n",
       "</table>\n",
       "</div>"
      ],
      "text/plain": [
       "Empty DataFrame\n",
       "Columns: [Unnamed: 0, sid, transcript, partial_transcripts]\n",
       "Index: []"
      ]
     },
     "execution_count": 6,
     "metadata": {},
     "output_type": "execute_result"
    }
   ],
   "source": [
    "test_df[test_df.duplicated()]"
   ]
  },
  {
   "cell_type": "code",
   "execution_count": 7,
   "id": "0d1b1c88-175e-4dbc-8915-20e9635d95b0",
   "metadata": {},
   "outputs": [
    {
     "data": {
      "text/plain": [
       "Dataset({\n",
       "    features: ['transcript'],\n",
       "    num_rows: 730\n",
       "})"
      ]
     },
     "execution_count": 7,
     "metadata": {},
     "output_type": "execute_result"
    }
   ],
   "source": [
    "test_ds = Dataset.from_pandas(test_df[[\"transcript\"]])\n",
    "test_ds"
   ]
  },
  {
   "cell_type": "markdown",
   "id": "17a9b1ba-59cf-4183-8e9f-240f1a828361",
   "metadata": {},
   "source": [
    "<br><h2>2. Loading Model</h2><br>"
   ]
  },
  {
   "cell_type": "code",
   "execution_count": 8,
   "id": "1a0b852e-bee0-4b57-8798-905479046535",
   "metadata": {},
   "outputs": [],
   "source": [
    "tokenizer_test = AutoTokenizer.from_pretrained(\"results/best_model\")"
   ]
  },
  {
   "cell_type": "code",
   "execution_count": 9,
   "id": "f4dd557a-a556-4ac9-8bbb-60233e15089b",
   "metadata": {},
   "outputs": [
    {
     "data": {
      "application/vnd.jupyter.widget-view+json": {
       "model_id": "563617d0bf6b41ea806e42dfd8cc7962",
       "version_major": 2,
       "version_minor": 0
      },
      "text/plain": [
       "  0%|          | 0/1 [00:00<?, ?ba/s]"
      ]
     },
     "metadata": {},
     "output_type": "display_data"
    }
   ],
   "source": [
    "def preprocess_function(examples):\n",
    "    return tokenizer_test(examples[\"transcript\"], truncation=True)\n",
    "tokenized_test = test_ds.map(preprocess_function, batched=True)"
   ]
  },
  {
   "cell_type": "code",
   "execution_count": 10,
   "id": "91131cf7-ffa6-481d-9424-a58401b0e9e6",
   "metadata": {},
   "outputs": [],
   "source": [
    "model_test = AutoModelForSequenceClassification.from_pretrained(\"results/best_model\", num_labels=2)"
   ]
  },
  {
   "cell_type": "code",
   "execution_count": 11,
   "id": "180ac077-9a0f-4674-843b-a003032c70a4",
   "metadata": {},
   "outputs": [],
   "source": [
    "trainer_test = Trainer(\n",
    "    model=model_test,\n",
    "    args=TrainingArguments(output_dir=\"./results\"),\n",
    "    data_collator=DataCollatorWithPadding(tokenizer=tokenizer_test)\n",
    ")"
   ]
  },
  {
   "cell_type": "markdown",
   "id": "0a468d61-d356-42b8-861d-b2a59ea0a4d8",
   "metadata": {},
   "source": [
    "<br><h2>3. Export Predictions</h2><br>"
   ]
  },
  {
   "cell_type": "code",
   "execution_count": 12,
   "id": "6ee71a20-9daa-464d-b8cf-8f9fa037933e",
   "metadata": {},
   "outputs": [
    {
     "name": "stderr",
     "output_type": "stream",
     "text": [
      "The following columns in the test set  don't have a corresponding argument in `BertForSequenceClassification.forward` and have been ignored: transcript. If transcript are not expected by `BertForSequenceClassification.forward`,  you can safely ignore this message.\n",
      "***** Running Prediction *****\n",
      "  Num examples = 730\n",
      "  Batch size = 8\n"
     ]
    },
    {
     "data": {
      "text/html": [
       "\n",
       "    <div>\n",
       "      \n",
       "      <progress value='92' max='92' style='width:300px; height:20px; vertical-align: middle;'></progress>\n",
       "      [92/92 00:02]\n",
       "    </div>\n",
       "    "
      ],
      "text/plain": [
       "<IPython.core.display.HTML object>"
      ]
     },
     "metadata": {},
     "output_type": "display_data"
    }
   ],
   "source": [
    "test_predictions = trainer_test.predict(tokenized_test)"
   ]
  },
  {
   "cell_type": "code",
   "execution_count": 13,
   "id": "ca713ca4-1a9d-4b6f-be56-09dd0405b745",
   "metadata": {},
   "outputs": [],
   "source": [
    "test_df[\"label\"] = test_predictions.predictions.argmax(-1)"
   ]
  },
  {
   "cell_type": "code",
   "execution_count": 14,
   "id": "a5243aa7-3768-47a0-b383-6536666eaea9",
   "metadata": {},
   "outputs": [],
   "source": [
    "test_df[\"label\"] = test_df[\"label\"].map({0:\"voicemail\", 1:\"human\"})"
   ]
  },
  {
   "cell_type": "code",
   "execution_count": 15,
   "id": "9f28f1cd-53cd-4c68-bbaa-022d38ec3cb2",
   "metadata": {},
   "outputs": [
    {
     "data": {
      "text/html": [
       "<div>\n",
       "<style scoped>\n",
       "    .dataframe tbody tr th:only-of-type {\n",
       "        vertical-align: middle;\n",
       "    }\n",
       "\n",
       "    .dataframe tbody tr th {\n",
       "        vertical-align: top;\n",
       "    }\n",
       "\n",
       "    .dataframe thead th {\n",
       "        text-align: right;\n",
       "    }\n",
       "</style>\n",
       "<table border=\"1\" class=\"dataframe\">\n",
       "  <thead>\n",
       "    <tr style=\"text-align: right;\">\n",
       "      <th></th>\n",
       "      <th>Unnamed: 0</th>\n",
       "      <th>sid</th>\n",
       "      <th>transcript</th>\n",
       "      <th>partial_transcripts</th>\n",
       "      <th>label</th>\n",
       "    </tr>\n",
       "  </thead>\n",
       "  <tbody>\n",
       "    <tr>\n",
       "      <th>0</th>\n",
       "      <td>0</td>\n",
       "      <td>CF8fd2e7ac0e4ff2316bb18a9ffe5e9e68</td>\n",
       "      <td>Your call has been forwarded to an automated v...</td>\n",
       "      <td>(0): You're?/(0.065): Your call./(0.422): Your...</td>\n",
       "      <td>voicemail</td>\n",
       "    </tr>\n",
       "    <tr>\n",
       "      <th>2</th>\n",
       "      <td>2</td>\n",
       "      <td>CF94166971f53d5b09ac2e411755ead266</td>\n",
       "      <td>Yes, so let me says hello, you've reached this...</td>\n",
       "      <td>(0): Yes./(0.129): Who was it just for?/(0.255...</td>\n",
       "      <td>voicemail</td>\n",
       "    </tr>\n",
       "    <tr>\n",
       "      <th>4</th>\n",
       "      <td>4</td>\n",
       "      <td>CFd61f7d8a06b913c4b2170bebe99b3331</td>\n",
       "      <td>Hello, darling. Static is not available. Pleas...</td>\n",
       "      <td>(0): Hello./(0.51): Hello./(0.549): Hello,  ba...</td>\n",
       "      <td>voicemail</td>\n",
       "    </tr>\n",
       "    <tr>\n",
       "      <th>5</th>\n",
       "      <td>5</td>\n",
       "      <td>CF8af87dca72e65ccca8f9262cf49ad1ef</td>\n",
       "      <td>Hi, you've reached the voicemail box of been k...</td>\n",
       "      <td>(0): How you?/(0.029): hi, you've/(0.392): Hi,...</td>\n",
       "      <td>voicemail</td>\n",
       "    </tr>\n",
       "    <tr>\n",
       "      <th>6</th>\n",
       "      <td>6</td>\n",
       "      <td>CF2a26689474c087b9807565a878880b6b</td>\n",
       "      <td>You have reached the voicemail of Michael Burd...</td>\n",
       "      <td>(0): You./(0.005): You have./(0.022): You have...</td>\n",
       "      <td>voicemail</td>\n",
       "    </tr>\n",
       "    <tr>\n",
       "      <th>...</th>\n",
       "      <td>...</td>\n",
       "      <td>...</td>\n",
       "      <td>...</td>\n",
       "      <td>...</td>\n",
       "      <td>...</td>\n",
       "    </tr>\n",
       "    <tr>\n",
       "      <th>725</th>\n",
       "      <td>725</td>\n",
       "      <td>CFa21859e752416d642f9d93aa1c290f66</td>\n",
       "      <td>718 is not available to take your call. Please...</td>\n",
       "      <td>(0): Seven./(0.311): 337./(0.328): 371./(0.73)...</td>\n",
       "      <td>voicemail</td>\n",
       "    </tr>\n",
       "    <tr>\n",
       "      <th>726</th>\n",
       "      <td>726</td>\n",
       "      <td>CF5d58b2164c51a9ec5295e48c16beca5c</td>\n",
       "      <td>Zack Hess is currently unavailable.</td>\n",
       "      <td>(0): Zach./(0.448): Zack Hess./(0.449): Zack./...</td>\n",
       "      <td>voicemail</td>\n",
       "    </tr>\n",
       "    <tr>\n",
       "      <th>727</th>\n",
       "      <td>727</td>\n",
       "      <td>CFf631ae0c49dc94fd43ae77da07c233e5</td>\n",
       "      <td>Who you've reached, Jessica, Russell, Gilliam,...</td>\n",
       "      <td>(0): Who./(0.626): Who./(0.791): Who  you've r...</td>\n",
       "      <td>voicemail</td>\n",
       "    </tr>\n",
       "    <tr>\n",
       "      <th>728</th>\n",
       "      <td>728</td>\n",
       "      <td>CFc52805d7b70ebf85c0a924d3f2ef6749</td>\n",
       "      <td>Hi, you've reached brooks'. Schaefer. I'm not ...</td>\n",
       "      <td>(0): Hi./(0.011): hi, you've/(0.393): Hi, you'...</td>\n",
       "      <td>voicemail</td>\n",
       "    </tr>\n",
       "    <tr>\n",
       "      <th>729</th>\n",
       "      <td>729</td>\n",
       "      <td>CF14cc041738be486351ad2e13da6cc80b</td>\n",
       "      <td>Please leave your message for 702-881-6318.</td>\n",
       "      <td>(0): Please./(0.017): Please leave./(0.408): P...</td>\n",
       "      <td>voicemail</td>\n",
       "    </tr>\n",
       "  </tbody>\n",
       "</table>\n",
       "<p>499 rows × 5 columns</p>\n",
       "</div>"
      ],
      "text/plain": [
       "     Unnamed: 0                                 sid  \\\n",
       "0             0  CF8fd2e7ac0e4ff2316bb18a9ffe5e9e68   \n",
       "2             2  CF94166971f53d5b09ac2e411755ead266   \n",
       "4             4  CFd61f7d8a06b913c4b2170bebe99b3331   \n",
       "5             5  CF8af87dca72e65ccca8f9262cf49ad1ef   \n",
       "6             6  CF2a26689474c087b9807565a878880b6b   \n",
       "..          ...                                 ...   \n",
       "725         725  CFa21859e752416d642f9d93aa1c290f66   \n",
       "726         726  CF5d58b2164c51a9ec5295e48c16beca5c   \n",
       "727         727  CFf631ae0c49dc94fd43ae77da07c233e5   \n",
       "728         728  CFc52805d7b70ebf85c0a924d3f2ef6749   \n",
       "729         729  CF14cc041738be486351ad2e13da6cc80b   \n",
       "\n",
       "                                            transcript  \\\n",
       "0    Your call has been forwarded to an automated v...   \n",
       "2    Yes, so let me says hello, you've reached this...   \n",
       "4    Hello, darling. Static is not available. Pleas...   \n",
       "5    Hi, you've reached the voicemail box of been k...   \n",
       "6    You have reached the voicemail of Michael Burd...   \n",
       "..                                                 ...   \n",
       "725  718 is not available to take your call. Please...   \n",
       "726                Zack Hess is currently unavailable.   \n",
       "727  Who you've reached, Jessica, Russell, Gilliam,...   \n",
       "728  Hi, you've reached brooks'. Schaefer. I'm not ...   \n",
       "729        Please leave your message for 702-881-6318.   \n",
       "\n",
       "                                   partial_transcripts      label  \n",
       "0    (0): You're?/(0.065): Your call./(0.422): Your...  voicemail  \n",
       "2    (0): Yes./(0.129): Who was it just for?/(0.255...  voicemail  \n",
       "4    (0): Hello./(0.51): Hello./(0.549): Hello,  ba...  voicemail  \n",
       "5    (0): How you?/(0.029): hi, you've/(0.392): Hi,...  voicemail  \n",
       "6    (0): You./(0.005): You have./(0.022): You have...  voicemail  \n",
       "..                                                 ...        ...  \n",
       "725  (0): Seven./(0.311): 337./(0.328): 371./(0.73)...  voicemail  \n",
       "726  (0): Zach./(0.448): Zack Hess./(0.449): Zack./...  voicemail  \n",
       "727  (0): Who./(0.626): Who./(0.791): Who  you've r...  voicemail  \n",
       "728  (0): Hi./(0.011): hi, you've/(0.393): Hi, you'...  voicemail  \n",
       "729  (0): Please./(0.017): Please leave./(0.408): P...  voicemail  \n",
       "\n",
       "[499 rows x 5 columns]"
      ]
     },
     "execution_count": 15,
     "metadata": {},
     "output_type": "execute_result"
    }
   ],
   "source": [
    "test_df[test_df.label == \"voicemail\"]"
   ]
  },
  {
   "cell_type": "code",
   "execution_count": 16,
   "id": "7ef027bd-e0a0-4797-baa7-b5d7d7966c9d",
   "metadata": {},
   "outputs": [
    {
     "data": {
      "text/html": [
       "<div>\n",
       "<style scoped>\n",
       "    .dataframe tbody tr th:only-of-type {\n",
       "        vertical-align: middle;\n",
       "    }\n",
       "\n",
       "    .dataframe tbody tr th {\n",
       "        vertical-align: top;\n",
       "    }\n",
       "\n",
       "    .dataframe thead th {\n",
       "        text-align: right;\n",
       "    }\n",
       "</style>\n",
       "<table border=\"1\" class=\"dataframe\">\n",
       "  <thead>\n",
       "    <tr style=\"text-align: right;\">\n",
       "      <th></th>\n",
       "      <th>Unnamed: 0</th>\n",
       "      <th>sid</th>\n",
       "      <th>transcript</th>\n",
       "      <th>partial_transcripts</th>\n",
       "      <th>label</th>\n",
       "    </tr>\n",
       "  </thead>\n",
       "  <tbody>\n",
       "    <tr>\n",
       "      <th>1</th>\n",
       "      <td>1</td>\n",
       "      <td>CF2a9819f31261b93230e2ad68888bb479</td>\n",
       "      <td>Lamancha. This is Carrie. Can I help you?</td>\n",
       "      <td>(0): Ramon./(0.119): Clermont./(0.365): Lamanc...</td>\n",
       "      <td>human</td>\n",
       "    </tr>\n",
       "    <tr>\n",
       "      <th>3</th>\n",
       "      <td>3</td>\n",
       "      <td>CF13315d4973c7c6333ed31aac7b406f46</td>\n",
       "      <td>Brian toner.</td>\n",
       "      <td>(0): Ryan./(0.245): Ryan tone./(0.265): Brian ...</td>\n",
       "      <td>human</td>\n",
       "    </tr>\n",
       "    <tr>\n",
       "      <th>9</th>\n",
       "      <td>9</td>\n",
       "      <td>CF2b59ce06f4671d0c7a7b5756f9d2ed7f</td>\n",
       "      <td>Hello.</td>\n",
       "      <td>(0): Hello./(0.808): Hello./(0.816): Hello.</td>\n",
       "      <td>human</td>\n",
       "    </tr>\n",
       "    <tr>\n",
       "      <th>10</th>\n",
       "      <td>10</td>\n",
       "      <td>CF8863ca3c1a886f4ad8e82d5d0148bf7a</td>\n",
       "      <td>Hello.</td>\n",
       "      <td>(0): Hello./(0.814): Hello./(0.827): Hello.</td>\n",
       "      <td>human</td>\n",
       "    </tr>\n",
       "    <tr>\n",
       "      <th>11</th>\n",
       "      <td>11</td>\n",
       "      <td>CFb2e307590ee4ee076bb2fa0c4366c40f</td>\n",
       "      <td>Hi. This is selling HR.</td>\n",
       "      <td>(0): Why is the?/(0.237): Hi, is this?/(0.404)...</td>\n",
       "      <td>human</td>\n",
       "    </tr>\n",
       "    <tr>\n",
       "      <th>...</th>\n",
       "      <td>...</td>\n",
       "      <td>...</td>\n",
       "      <td>...</td>\n",
       "      <td>...</td>\n",
       "      <td>...</td>\n",
       "    </tr>\n",
       "    <tr>\n",
       "      <th>708</th>\n",
       "      <td>708</td>\n",
       "      <td>CF8e1bf207c057304127edc206c0c6e15e</td>\n",
       "      <td>Good afternoon. Thank you for calling Moda Hea...</td>\n",
       "      <td>(0): Good./(0.013): good after/(0.382): Good a...</td>\n",
       "      <td>human</td>\n",
       "    </tr>\n",
       "    <tr>\n",
       "      <th>713</th>\n",
       "      <td>713</td>\n",
       "      <td>CFa0cf2bcc85738645f269814516818aee</td>\n",
       "      <td>Hello.  Yes, speaking.</td>\n",
       "      <td>(0): Hello./(0.419): Hello./(2.024): Hello./(2...</td>\n",
       "      <td>human</td>\n",
       "    </tr>\n",
       "    <tr>\n",
       "      <th>720</th>\n",
       "      <td>720</td>\n",
       "      <td>CFd23228f5116af40add8c134d5df0a5cb</td>\n",
       "      <td>Hello.</td>\n",
       "      <td>(0): Hello./(0.331): Hello./(2.283): Hello./(6...</td>\n",
       "      <td>human</td>\n",
       "    </tr>\n",
       "    <tr>\n",
       "      <th>721</th>\n",
       "      <td>721</td>\n",
       "      <td>CFd8dcb910764cc9c8ead8de25e457e3ef</td>\n",
       "      <td>Hello.</td>\n",
       "      <td>(0): Hello./(0.797): Hello./(0.808): Hello./(3...</td>\n",
       "      <td>human</td>\n",
       "    </tr>\n",
       "    <tr>\n",
       "      <th>724</th>\n",
       "      <td>724</td>\n",
       "      <td>CF165e4082f2c5a0eb8de664271a55351e</td>\n",
       "      <td>What?  Yes.</td>\n",
       "      <td>(0): What?/(0.885): What?/(0.886): What?/(3.18...</td>\n",
       "      <td>human</td>\n",
       "    </tr>\n",
       "  </tbody>\n",
       "</table>\n",
       "<p>231 rows × 5 columns</p>\n",
       "</div>"
      ],
      "text/plain": [
       "     Unnamed: 0                                 sid  \\\n",
       "1             1  CF2a9819f31261b93230e2ad68888bb479   \n",
       "3             3  CF13315d4973c7c6333ed31aac7b406f46   \n",
       "9             9  CF2b59ce06f4671d0c7a7b5756f9d2ed7f   \n",
       "10           10  CF8863ca3c1a886f4ad8e82d5d0148bf7a   \n",
       "11           11  CFb2e307590ee4ee076bb2fa0c4366c40f   \n",
       "..          ...                                 ...   \n",
       "708         708  CF8e1bf207c057304127edc206c0c6e15e   \n",
       "713         713  CFa0cf2bcc85738645f269814516818aee   \n",
       "720         720  CFd23228f5116af40add8c134d5df0a5cb   \n",
       "721         721  CFd8dcb910764cc9c8ead8de25e457e3ef   \n",
       "724         724  CF165e4082f2c5a0eb8de664271a55351e   \n",
       "\n",
       "                                            transcript  \\\n",
       "1            Lamancha. This is Carrie. Can I help you?   \n",
       "3                                         Brian toner.   \n",
       "9                                               Hello.   \n",
       "10                                              Hello.   \n",
       "11                             Hi. This is selling HR.   \n",
       "..                                                 ...   \n",
       "708  Good afternoon. Thank you for calling Moda Hea...   \n",
       "713                             Hello.  Yes, speaking.   \n",
       "720                                             Hello.   \n",
       "721                                             Hello.   \n",
       "724                                        What?  Yes.   \n",
       "\n",
       "                                   partial_transcripts  label  \n",
       "1    (0): Ramon./(0.119): Clermont./(0.365): Lamanc...  human  \n",
       "3    (0): Ryan./(0.245): Ryan tone./(0.265): Brian ...  human  \n",
       "9          (0): Hello./(0.808): Hello./(0.816): Hello.  human  \n",
       "10         (0): Hello./(0.814): Hello./(0.827): Hello.  human  \n",
       "11   (0): Why is the?/(0.237): Hi, is this?/(0.404)...  human  \n",
       "..                                                 ...    ...  \n",
       "708  (0): Good./(0.013): good after/(0.382): Good a...  human  \n",
       "713  (0): Hello./(0.419): Hello./(2.024): Hello./(2...  human  \n",
       "720  (0): Hello./(0.331): Hello./(2.283): Hello./(6...  human  \n",
       "721  (0): Hello./(0.797): Hello./(0.808): Hello./(3...  human  \n",
       "724  (0): What?/(0.885): What?/(0.886): What?/(3.18...  human  \n",
       "\n",
       "[231 rows x 5 columns]"
      ]
     },
     "execution_count": 16,
     "metadata": {},
     "output_type": "execute_result"
    }
   ],
   "source": [
    "test_df[test_df.label == \"human\"]"
   ]
  },
  {
   "cell_type": "code",
   "execution_count": 17,
   "id": "b22e33ad-4b55-4d6a-9ce8-ff99faf67e38",
   "metadata": {},
   "outputs": [],
   "source": [
    "test_df.to_csv(\"results/evaluation_data_results.csv\")"
   ]
  },
  {
   "cell_type": "code",
   "execution_count": null,
   "id": "fbd560b7-34dc-4c0d-a5b1-e6209ffc5956",
   "metadata": {},
   "outputs": [],
   "source": []
  }
 ],
 "metadata": {
  "kernelspec": {
   "display_name": "Python 3",
   "language": "python",
   "name": "python3"
  },
  "language_info": {
   "codemirror_mode": {
    "name": "ipython",
    "version": 3
   },
   "file_extension": ".py",
   "mimetype": "text/x-python",
   "name": "python",
   "nbconvert_exporter": "python",
   "pygments_lexer": "ipython3",
   "version": "3.8.0"
  }
 },
 "nbformat": 4,
 "nbformat_minor": 5
}
